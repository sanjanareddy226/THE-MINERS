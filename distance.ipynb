{
 "cells": [
  {
   "cell_type": "code",
   "execution_count": 5,
   "metadata": {},
   "outputs": [],
   "source": [
    "import geocoder\n",
    "g = geocoder.ip('me')"
   ]
  },
  {
   "cell_type": "code",
   "execution_count": 7,
   "metadata": {},
   "outputs": [
    {
     "data": {
      "text/plain": [
       "{'address': 'Mumbai, Maharashtra, IN',\n",
       " 'city': 'Mumbai',\n",
       " 'country': 'IN',\n",
       " 'hostname': 'static-mum-182.57.101.12.mtnl.net.in',\n",
       " 'ip': '182.57.101.12',\n",
       " 'lat': 19.0728,\n",
       " 'lng': 72.8826,\n",
       " 'ok': True,\n",
       " 'org': 'AS17813 Mahanagar Telephone Nigam Limited',\n",
       " 'postal': '400070',\n",
       " 'raw': {'ip': '182.57.101.12',\n",
       "  'hostname': 'static-mum-182.57.101.12.mtnl.net.in',\n",
       "  'city': 'Mumbai',\n",
       "  'region': 'Maharashtra',\n",
       "  'country': 'IN',\n",
       "  'loc': '19.0728,72.8826',\n",
       "  'org': 'AS17813 Mahanagar Telephone Nigam Limited',\n",
       "  'postal': '400070',\n",
       "  'timezone': 'Asia/Kolkata',\n",
       "  'readme': 'https://ipinfo.io/missingauth'},\n",
       " 'state': 'Maharashtra',\n",
       " 'status': 'OK'}"
      ]
     },
     "execution_count": 7,
     "metadata": {},
     "output_type": "execute_result"
    }
   ],
   "source": [
    "g.json"
   ]
  },
  {
   "cell_type": "code",
   "execution_count": 10,
   "metadata": {},
   "outputs": [
    {
     "data": {
      "text/plain": [
       "1119.670184688099"
      ]
     },
     "execution_count": 10,
     "metadata": {},
     "output_type": "execute_result"
    }
   ],
   "source": [
    "import haversine as hs\n",
    "loc1=(g.latlng[0],g.latlng[1])\n",
    "loc2=(28.394231,77.050308)\n",
    "hs.haversine(loc1,loc2)"
   ]
  },
  {
   "cell_type": "code",
   "execution_count": null,
   "metadata": {},
   "outputs": [],
   "source": []
  }
 ],
 "metadata": {
  "kernelspec": {
   "display_name": "Python 3",
   "language": "python",
   "name": "python3"
  },
  "language_info": {
   "codemirror_mode": {
    "name": "ipython",
    "version": 3
   },
   "file_extension": ".py",
   "mimetype": "text/x-python",
   "name": "python",
   "nbconvert_exporter": "python",
   "pygments_lexer": "ipython3",
   "version": "3.7.3"
  }
 },
 "nbformat": 4,
 "nbformat_minor": 2
}
