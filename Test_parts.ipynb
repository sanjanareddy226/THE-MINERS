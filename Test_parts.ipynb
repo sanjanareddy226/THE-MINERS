{
 "cells": [
  {
   "cell_type": "code",
   "execution_count": 2,
   "metadata": {},
   "outputs": [],
   "source": [
    "import cv2"
   ]
  },
  {
   "cell_type": "code",
   "execution_count": null,
   "metadata": {},
   "outputs": [],
   "source": [
    "def crop(image, x0, y0, x1, y1):\n",
    "    return image[y0:y1 , x0:x1, :]"
   ]
  },
  {
   "cell_type": "code",
   "execution_count": null,
   "metadata": {},
   "outputs": [],
   "source": [
    "import pandas as pd\n",
    "df = pd.read_csv (r'CarPartsDetectionChallenge-master\\Data\\Source_Images\\Test_Image_Detection_Results\\Detection_Results.csv')"
   ]
  },
  {
   "cell_type": "code",
   "execution_count": null,
   "metadata": {},
   "outputs": [],
   "source": [
    "img  = cv2.imread(r'CarPartsDetectionChallenge-master\\Data\\Source_Images\\Test_Images\\00235.jpg')"
   ]
  },
  {
   "cell_type": "markdown",
   "metadata": {},
   "source": [
    "# Car Parts"
   ]
  },
  {
   "cell_type": "code",
   "execution_count": 7,
   "metadata": {
    "scrolled": true
   },
   "outputs": [
    {
     "name": "stdout",
     "output_type": "stream",
     "text": [
      "WARNING:tensorflow:From C:\\Users\\nishc_omjn2ty\\Anaconda3\\lib\\site-packages\\keras\\backend\\tensorflow_backend.py:174: The name tf.get_default_session is deprecated. Please use tf.compat.v1.get_default_session instead.\n",
      "\n",
      "WARNING:tensorflow:From C:\\Users\\nishc_omjn2ty\\Anaconda3\\lib\\site-packages\\keras\\backend\\tensorflow_backend.py:181: The name tf.ConfigProto is deprecated. Please use tf.compat.v1.ConfigProto instead.\n",
      "\n",
      "WARNING:tensorflow:From C:\\Users\\nishc_omjn2ty\\Anaconda3\\lib\\site-packages\\keras\\backend\\tensorflow_backend.py:186: The name tf.Session is deprecated. Please use tf.compat.v1.Session instead.\n",
      "\n",
      "WARNING:tensorflow:From C:\\Users\\nishc_omjn2ty\\Anaconda3\\lib\\site-packages\\keras\\backend\\tensorflow_backend.py:190: The name tf.global_variables is deprecated. Please use tf.compat.v1.global_variables instead.\n",
      "\n",
      "WARNING:tensorflow:From C:\\Users\\nishc_omjn2ty\\Anaconda3\\lib\\site-packages\\keras\\backend\\tensorflow_backend.py:74: The name tf.get_default_graph is deprecated. Please use tf.compat.v1.get_default_graph instead.\n",
      "\n",
      "WARNING:tensorflow:From C:\\Users\\nishc_omjn2ty\\Anaconda3\\lib\\site-packages\\keras\\backend\\tensorflow_backend.py:1834: The name tf.nn.fused_batch_norm is deprecated. Please use tf.compat.v1.nn.fused_batch_norm instead.\n",
      "\n",
      "WARNING:tensorflow:From C:\\Users\\nishc_omjn2ty\\Anaconda3\\lib\\site-packages\\keras\\backend\\tensorflow_backend.py:2018: The name tf.image.resize_nearest_neighbor is deprecated. Please use tf.compat.v1.image.resize_nearest_neighbor instead.\n",
      "\n",
      "C:\\Users\\nishc_omjn2ty\\Downloads\\CarPartsDetectionChallenge-master\\CarPartsDetectionChallenge-master\\Data\\Model_Weights\\trained_weights_final.h5 model, anchors, and classes loaded in 10.51sec.\n",
      "WARNING:tensorflow:From C:\\Users\\nishc_omjn2ty\\Anaconda3\\lib\\site-packages\\tensorflow\\python\\ops\\array_ops.py:1354: add_dispatch_support.<locals>.wrapper (from tensorflow.python.ops.array_ops) is deprecated and will be removed in a future version.\n",
      "Instructions for updating:\n",
      "Use tf.where in 2.0, which has the same broadcast rule as np.where\n",
      "(416, 416, 3)\n",
      "Found 7 boxes for img\n",
      "Wheel 0.86 (1909, 1540) (2929, 2549)\n",
      "Wheel 0.89 (211, 1334) (749, 1920)\n",
      "Door 0.81 (682, 355) (1933, 2223)\n",
      "SideGlass 0.49 (1259, 920) (1618, 1208)\n",
      "SideGlass 0.49 (1210, 792) (1608, 1358)\n",
      "Glass 0.93 (1656, 556) (2742, 1150)\n",
      "Light 0.74 (2563, 1358) (3627, 1726)\n",
      "Time spent: 2.916sec\n",
      "Processed images\n"
     ]
    }
   ],
   "source": [
    "import os\n",
    "import sys\n",
    "\n",
    "root_folder = r\"C:\\Users\\nishc_omjn2ty\\Downloads\\CarPartsDetectionChallenge-master\\CarPartsDetectionChallenge-master\"\n",
    "src_path = os.path.join(root_folder, \"2_Training\", \"src\")\n",
    "utils_path = os.path.join(root_folder, \"Utils\")\n",
    "sys.path.append(utils_path)\n",
    "sys.path.append(src_path)\n",
    "\n",
    "import argparse\n",
    "from keras_yolo3.yolo import YOLO, detect_video\n",
    "from PIL import Image\n",
    "from timeit import default_timer as timer\n",
    "from utils import load_extractor_model, load_features, parse_input, detect_object\n",
    "import test\n",
    "import utils\n",
    "import pandas as pd\n",
    "import numpy as np\n",
    "from Get_File_Paths import GetFileList\n",
    "import random\n",
    "\n",
    "data_folder = os.path.join(root_folder, \"Data\")\n",
    "model_folder = os.path.join(data_folder, \"Model_Weights\")\n",
    "image_folder = os.path.join(data_folder, \"Source_Images\")\n",
    "output_folder = os.path.join(image_folder, \"Test_Image_Detection_Results\")\n",
    "detection_results_file = os.path.join(output_folder, \"Detection_Results.csv\")\n",
    "model_weights = os.path.join(model_folder, \"trained_weights_final.h5\")\n",
    "classes_file = os.path.join(model_folder, \"data_classes.txt\")\n",
    "\n",
    "img_path = r\"C:\\Users\\nishc_omjn2ty\\Downloads\\CarPartsDetectionChallenge-master\\CarPartsDetectionChallenge-master\\Data\\Source_Images\\Test_Images\\00230.jpg\"\n",
    "\n",
    "output_folder = os.path.join(image_folder, \"Test_Image_Detection_Results\")\n",
    "anchors = os.path.join(\n",
    "    root_folder, \"2_Training\", \"src\", \"keras_yolo3\", \"model_data\", \"yolo_anchors.txt\"\n",
    ")\n",
    "\n",
    "\n",
    "\n",
    "yolo = YOLO(\n",
    "        **{\n",
    "            \"model_path\": model_weights,    #model path\n",
    "            \"anchors_path\": anchors, #anchors\n",
    "            \"classes_path\": classes_file,  #classes\n",
    "            \"score\": 0.25,            #0.25\n",
    "            \"gpu_num\": 1,      #default=1\n",
    "            \"model_image_size\": (416, 416),\n",
    "        }\n",
    "    )\n",
    "\n",
    "    # Make a dataframe for the prediction outputs\n",
    "out_df = pd.DataFrame(\n",
    "        columns=[\n",
    "            \"image\",\n",
    "            \"image_path\",\n",
    "            \"xmin\",\n",
    "            \"ymin\",\n",
    "            \"xmax\",\n",
    "            \"ymax\",\n",
    "            \"label\",\n",
    "            \"confidence\",\n",
    "            \"x_size\",\n",
    "            \"y_size\",\n",
    "        ]\n",
    "    )\n",
    "prediction, image = detect_object(\n",
    "                yolo,\n",
    "                img_path,\n",
    "                save_img=True, #true\n",
    "                save_img_path=output_folder,\n",
    "                postfix=\"_car\", #\"_car\"\n",
    "            )\n",
    "y_size, x_size, _ = np.array(image).shape\n",
    "for single_prediction in prediction:\n",
    "    out_df = out_df.append(\n",
    "                    pd.DataFrame(\n",
    "                        [\n",
    "                            [\n",
    "                                os.path.basename(img_path.rstrip(\"\\n\")),\n",
    "                                img_path.rstrip(\"\\n\"),\n",
    "                            ]\n",
    "                            + single_prediction\n",
    "                            + [x_size, y_size]\n",
    "                        ],\n",
    "                        columns=[\n",
    "                            \"image\",\n",
    "                            \"image_path\",\n",
    "                            \"xmin\",\n",
    "                            \"ymin\",\n",
    "                            \"xmax\",\n",
    "                            \"ymax\",\n",
    "                            \"label\",\n",
    "                            \"confidence\",\n",
    "                            \"x_size\",\n",
    "                            \"y_size\",\n",
    "                        ],\n",
    "                    )\n",
    "                )\n",
    "    \n",
    "        #end = timer()\n",
    "print(\"Processed images\")\n",
    "out_df.to_csv(detection_results_file, index=False)\n",
    "yolo.close_session()"
   ]
  },
  {
   "cell_type": "markdown",
   "metadata": {},
   "source": [
    "# Head-Light"
   ]
  },
  {
   "cell_type": "code",
   "execution_count": null,
   "metadata": {},
   "outputs": [],
   "source": [
    "x = df.loc[(df['image'] == '00235.jpg') & (df['label'] == 0)]"
   ]
  },
  {
   "cell_type": "code",
   "execution_count": null,
   "metadata": {},
   "outputs": [],
   "source": [
    "print(x.values[0][2], x.values[0][3], x.values[0][4], x.values[0][5])"
   ]
  },
  {
   "cell_type": "code",
   "execution_count": null,
   "metadata": {},
   "outputs": [],
   "source": [
    "light = crop(img, x.values[0][2], x.values[0][3], x.values[0][4], x.values[0][5] )"
   ]
  },
  {
   "cell_type": "code",
   "execution_count": null,
   "metadata": {},
   "outputs": [],
   "source": [
    "light.shape"
   ]
  },
  {
   "cell_type": "code",
   "execution_count": null,
   "metadata": {},
   "outputs": [],
   "source": [
    "cv2.imshow('img', light)\n",
    "cv2.waitKey(0)"
   ]
  },
  {
   "cell_type": "code",
   "execution_count": null,
   "metadata": {},
   "outputs": [],
   "source": [
    "import tensorflow as tf"
   ]
  },
  {
   "cell_type": "code",
   "execution_count": null,
   "metadata": {},
   "outputs": [],
   "source": [
    "model= tf.keras.models.Sequential([\n",
    "    tf.keras.layers.Conv2D(16,(3,3),activation='relu',input_shape=(300,300,3)),\n",
    "    tf.keras.layers.MaxPooling2D(2,2),\n",
    "    \n",
    "    tf.keras.layers.Conv2D(32,(3,3),activation='relu'),\n",
    "    tf.keras.layers.MaxPooling2D(2,2),\n",
    "    \n",
    "    tf.keras.layers.Conv2D(64,(3,3),activation='relu'),\n",
    "    tf.keras.layers.MaxPooling2D(2,2),\n",
    "    \n",
    "    tf.keras.layers.Conv2D(64,(3,3),activation='relu'),\n",
    "    tf.keras.layers.MaxPooling2D(2,2),\n",
    "    \n",
    "    tf.keras.layers.Conv2D(64,(3,3),activation='relu'),\n",
    "    tf.keras.layers.MaxPooling2D(2,2),\n",
    "    \n",
    "    tf.keras.layers.Flatten(),\n",
    "    tf.keras.layers.Dense(512,activation='relu'),\n",
    "    \n",
    "    tf.keras.layers.Dense(1,activation='sigmoid')\n",
    "])"
   ]
  },
  {
   "cell_type": "code",
   "execution_count": null,
   "metadata": {},
   "outputs": [],
   "source": [
    "model.load_weights(r\"C:\\Users\\nishc_omjn2ty\\OneDrive\\Desktop\\vehicle_fitness\\offVson\\model.h5\")"
   ]
  },
  {
   "cell_type": "code",
   "execution_count": null,
   "metadata": {},
   "outputs": [],
   "source": [
    "label = ['Off', 'On']"
   ]
  },
  {
   "cell_type": "code",
   "execution_count": null,
   "metadata": {},
   "outputs": [],
   "source": [
    "import cv2\n",
    "import numpy as np\n",
    "img = cv2.imread(r\"C:\\Users\\nishc_omjn2ty\\OneDrive\\Desktop\\offVson\\training_set\\off\\3.jpg\")\n",
    "#img = light\n",
    "img = cv2.resize(img,(300,300))\n",
    "img = img/.255\n",
    "img= np.array([img])\n",
    "print(img.shape)\n",
    "label[np.max(model.predict(img, verbose=1)).astype(int)]"
   ]
  },
  {
   "cell_type": "markdown",
   "metadata": {},
   "source": [
    "# Tire"
   ]
  },
  {
   "cell_type": "code",
   "execution_count": null,
   "metadata": {},
   "outputs": [],
   "source": [
    "img  = cv2.imread(r'CarPartsDetectionChallenge-master\\Data\\Source_Images\\Test_Images\\00235.jpg')"
   ]
  },
  {
   "cell_type": "code",
   "execution_count": null,
   "metadata": {},
   "outputs": [],
   "source": [
    "x = df.loc[(df['image'] == '00235.jpg') & (df['label'] == 4)]\n",
    "print(x.values[0][2], x.values[0][3], x.values[0][4], x.values[0][5])\n",
    "tire = crop(img, x.values[0][2], x.values[0][3], x.values[0][4], x.values[0][5] )"
   ]
  },
  {
   "cell_type": "code",
   "execution_count": null,
   "metadata": {},
   "outputs": [],
   "source": [
    "cv2.imshow('img', tire)\n",
    "cv2.waitKey(0)"
   ]
  },
  {
   "cell_type": "code",
   "execution_count": null,
   "metadata": {},
   "outputs": [],
   "source": [
    "model= tf.keras.models.Sequential([\n",
    "    tf.keras.layers.Conv2D(16,(3,3),activation='relu',input_shape=(300,300,3)),\n",
    "    tf.keras.layers.MaxPooling2D(2,2),\n",
    "    \n",
    "    tf.keras.layers.Conv2D(32,(3,3),activation='relu'),\n",
    "    tf.keras.layers.MaxPooling2D(2,2),\n",
    "    \n",
    "    tf.keras.layers.Conv2D(64,(3,3),activation='relu'),\n",
    "    tf.keras.layers.MaxPooling2D(2,2),\n",
    "    \n",
    "    tf.keras.layers.Conv2D(64,(3,3),activation='relu'),\n",
    "    tf.keras.layers.MaxPooling2D(2,2),\n",
    "    \n",
    "    tf.keras.layers.Conv2D(64,(3,3),activation='relu'),\n",
    "    tf.keras.layers.MaxPooling2D(2,2),\n",
    "    \n",
    "    tf.keras.layers.Flatten(),\n",
    "    tf.keras.layers.Dense(512,activation='relu'),\n",
    "    \n",
    "    tf.keras.layers.Dense(6,activation='softmax')\n",
    "])"
   ]
  },
  {
   "cell_type": "code",
   "execution_count": null,
   "metadata": {},
   "outputs": [],
   "source": [
    "model.load_weights(r\"Tire\\model.h5\")"
   ]
  },
  {
   "cell_type": "code",
   "execution_count": null,
   "metadata": {},
   "outputs": [],
   "source": [
    "label = ['exposed','linear air', 'normal', 'tread', 'tyre bulges', 'tyre sidewall cracking']"
   ]
  },
  {
   "cell_type": "code",
   "execution_count": null,
   "metadata": {},
   "outputs": [],
   "source": [
    "import cv2\n",
    "#img = cv2.imread(r\"C:\\Users\\nishc_omjn2ty\\OneDrive\\Desktop\\tire\\training_set\\normal\\00000005.jpg\")\n",
    "img = tire\n",
    "img = cv2.resize(img,(300,300))\n",
    "img = img/.255\n",
    "img= np.array([img])\n",
    "label[np.argmax(model.predict(img))]"
   ]
  },
  {
   "cell_type": "code",
   "execution_count": null,
   "metadata": {},
   "outputs": [],
   "source": []
  }
 ],
 "metadata": {
  "kernelspec": {
   "display_name": "Python 3",
   "language": "python",
   "name": "python3"
  }
 },
 "nbformat": 4,
 "nbformat_minor": 2
}
