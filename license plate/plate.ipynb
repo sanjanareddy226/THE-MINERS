{
 "cells": [
  {
   "cell_type": "code",
   "execution_count": 12,
   "metadata": {},
   "outputs": [],
   "source": [
    "import cv2\n",
    "# the function detects and perfors blurring on the number plate.\n",
    "# \tplate_img = img.copy()\n",
    "\t\n",
    "\t#Loads the data required for detecting the license plates from cascade classifier.\n",
    "plate_img=\"/Users/sanjanasrinivasareddy/Desktop/vehicle_fitness/puc images/plate.jpg\"\n",
    "plate_img=cv2.imread(plate_img)\n",
    "plate_img = cv2.cvtColor(plate_img, cv2.COLOR_BGR2GRAY)\n",
    "plate_cascade = cv2.CascadeClassifier('/Users/sanjanasrinivasareddy/Desktop/vehicle_fitness/indian_license_plate.xml')\n",
    "\n",
    "# detects numberplates and returns the coordinates and dimensions of detected license plate's contours.\n"
   ]
  },
  {
   "cell_type": "code",
   "execution_count": 15,
   "metadata": {},
   "outputs": [],
   "source": [
    "plate_rect = plate_cascade.detectMultiScale(plate_img, scaleFactor = 1.3, minNeighbors = 7)"
   ]
  },
  {
   "cell_type": "code",
   "execution_count": 24,
   "metadata": {},
   "outputs": [
    {
     "name": "stdout",
     "output_type": "stream",
     "text": [
      "9\n",
      "14\n",
      "144\n",
      "242\n",
      "326\n",
      "82\n"
     ]
    }
   ],
   "source": [
    "for (x,y,w,h) in plate_rect:\n",
    "    a,b = (int(0.02*plate_img.shape[0]), int(0.025*plate_img.shape[1])) #parameter tuning\n",
    "\n",
    "    plate = plate_img[y+a:y+h-a, x+b:x+w-b]\n",
    "    # finally representing the detected contours by drawing rectangles around the edges.\n",
    "    cv2.rectangle(plate_img, (x,y), (x+w, y+h), (51,51,255), 3)\n"
   ]
  },
  {
   "cell_type": "code",
   "execution_count": 22,
   "metadata": {},
   "outputs": [],
   "source": [
    "import matplotlib.pyplot as plt\n",
    "plt.imshow(plate)"
   ]
  },
  {
   "cell_type": "code",
   "execution_count": 27,
   "metadata": {},
   "outputs": [
    {
     "name": "stdout",
     "output_type": "stream",
     "text": [
      "\"DL3C AMO857{\n"
     ]
    }
   ],
   "source": [
    "import pytesseract\n",
    "import matplotlib.pyplot as plt\n",
    "import cv2\n",
    "pytesseract.pytesseract.tesseract_cmd = r\"/usr/local/Cellar/tesseract/4.1.1/bin/tesseract\"\n",
    "image_path=\"/Users/sanjanasrinivasareddy/Desktop/vehicle_fitness/puc images/puc.jpg\"\n",
    "# load the original image\n",
    "ret,thresh1 = cv2.threshold(plate,120,255,cv2.THRESH_BINARY)\n",
    "\n",
    "# pytesseract image to string to get results\n",
    "text = str(pytesseract.image_to_string(thresh1, config='--psm 6'))\n",
    "print(text)"
   ]
  },
  {
   "cell_type": "code",
   "execution_count": null,
   "metadata": {},
   "outputs": [],
   "source": []
  }
 ],
 "metadata": {
  "kernelspec": {
   "display_name": "Python 3",
   "language": "python",
   "name": "python3"
  },
  "language_info": {
   "codemirror_mode": {
    "name": "ipython",
    "version": 3
   },
   "file_extension": ".py",
   "mimetype": "text/x-python",
   "name": "python",
   "nbconvert_exporter": "python",
   "pygments_lexer": "ipython3",
   "version": "3.7.3"
  }
 },
 "nbformat": 4,
 "nbformat_minor": 2
}
